{
 "cells": [
  {
   "cell_type": "markdown",
   "id": "8932b4c1-e353-4c1f-9d33-cc6e97c1e4fc",
   "metadata": {},
   "source": [
    "# TRABALHANDO COM STRINGS"
   ]
  },
  {
   "cell_type": "markdown",
   "id": "63dc0a5e-ce43-4729-aec6-0f8eceba2d61",
   "metadata": {
    "jp-MarkdownHeadingCollapsed": true
   },
   "source": [
    "## Metodos String"
   ]
  },
  {
   "cell_type": "code",
   "execution_count": null,
   "id": "33739533-fdb9-43b8-876d-21e885a46183",
   "metadata": {},
   "outputs": [],
   "source": []
  },
  {
   "cell_type": "code",
   "execution_count": 6,
   "id": "bb04fbaf-514a-4b5b-b26e-3e744570c693",
   "metadata": {},
   "outputs": [],
   "source": [
    "nome = \"pYthon \""
   ]
  },
  {
   "cell_type": "code",
   "execution_count": 7,
   "id": "738185c4-bbee-4486-a1d6-2f5f3f4b08ba",
   "metadata": {},
   "outputs": [
    {
     "name": "stdout",
     "output_type": "stream",
     "text": [
      "python \n"
     ]
    }
   ],
   "source": [
    "print(nome.lower())"
   ]
  },
  {
   "cell_type": "code",
   "execution_count": 8,
   "id": "26d99d41-af22-4638-9c06-f7cb9c14ed5e",
   "metadata": {},
   "outputs": [
    {
     "name": "stdout",
     "output_type": "stream",
     "text": [
      "PYTHON \n"
     ]
    }
   ],
   "source": [
    "print(nome.upper())"
   ]
  },
  {
   "cell_type": "code",
   "execution_count": 10,
   "id": "182ea85c-840b-4506-9473-492e326a0f33",
   "metadata": {},
   "outputs": [],
   "source": [
    "nome = \" python \""
   ]
  },
  {
   "cell_type": "code",
   "execution_count": 11,
   "id": "552180f5-cb04-4b28-b642-15442902466f",
   "metadata": {},
   "outputs": [
    {
     "name": "stdout",
     "output_type": "stream",
     "text": [
      "python\n"
     ]
    }
   ],
   "source": [
    "print(nome.strip())"
   ]
  },
  {
   "cell_type": "code",
   "execution_count": 12,
   "id": "fe0c68c7-8dbc-4deb-ad05-b0f6b14b59cf",
   "metadata": {},
   "outputs": [
    {
     "name": "stdout",
     "output_type": "stream",
     "text": [
      " python\n"
     ]
    }
   ],
   "source": [
    "print(nome.rstrip())"
   ]
  },
  {
   "cell_type": "code",
   "execution_count": 14,
   "id": "6d718197-c3cb-49e8-8845-18f795558829",
   "metadata": {},
   "outputs": [
    {
     "name": "stdout",
     "output_type": "stream",
     "text": [
      "python \n"
     ]
    }
   ],
   "source": [
    "print(nome.lstrip())"
   ]
  },
  {
   "cell_type": "code",
   "execution_count": 19,
   "id": "87bd2e51-df60-4bde-b1c2-cf45f66fdf6d",
   "metadata": {},
   "outputs": [],
   "source": [
    "nome = \"python\""
   ]
  },
  {
   "cell_type": "code",
   "execution_count": 20,
   "id": "4a969faf-505a-456f-aa00-068f25117172",
   "metadata": {},
   "outputs": [
    {
     "name": "stdout",
     "output_type": "stream",
     "text": [
      "##python##\n"
     ]
    }
   ],
   "source": [
    "print(nome.center(10,\"#\"))"
   ]
  },
  {
   "cell_type": "code",
   "execution_count": 21,
   "id": "4e0951ce-8961-4040-b70b-7c57055e4b2b",
   "metadata": {},
   "outputs": [
    {
     "name": "stdout",
     "output_type": "stream",
     "text": [
      "p.y.t.h.o.n\n"
     ]
    }
   ],
   "source": [
    "print(\".\".join(nome))"
   ]
  },
  {
   "cell_type": "markdown",
   "id": "dcb68c35-0c70-4ecd-b99c-a578c19ea552",
   "metadata": {},
   "source": [
    "## Interpolação de variaveis"
   ]
  },
  {
   "cell_type": "code",
   "execution_count": 28,
   "id": "15588800-2ef8-4042-b846-575dc0b4fcf4",
   "metadata": {},
   "outputs": [],
   "source": [
    "nome = \"PytHon\""
   ]
  },
  {
   "cell_type": "code",
   "execution_count": 29,
   "id": "dac64bd0-2736-4c59-bba9-7baa5d0ffd61",
   "metadata": {},
   "outputs": [
    {
     "name": "stdout",
     "output_type": "stream",
     "text": [
      "python\n"
     ]
    }
   ],
   "source": [
    "print(nome.lower())"
   ]
  },
  {
   "cell_type": "code",
   "execution_count": 30,
   "id": "fb8a483a-6ea4-4d6f-bb8a-de64371ce042",
   "metadata": {},
   "outputs": [
    {
     "name": "stdout",
     "output_type": "stream",
     "text": [
      "PYTHON\n"
     ]
    }
   ],
   "source": [
    "print(nome.upper())"
   ]
  },
  {
   "cell_type": "code",
   "execution_count": 31,
   "id": "752771df-f280-45ab-9581-391ff61eca7b",
   "metadata": {},
   "outputs": [
    {
     "name": "stdout",
     "output_type": "stream",
     "text": [
      "Python\n"
     ]
    }
   ],
   "source": [
    "print(nome.title())"
   ]
  },
  {
   "cell_type": "code",
   "execution_count": 36,
   "id": "366e8abe-8b8d-476e-8dc7-9c04db8fb9e8",
   "metadata": {},
   "outputs": [],
   "source": [
    "texto = \"Ola Mundo!\""
   ]
  },
  {
   "cell_type": "code",
   "execution_count": 37,
   "id": "8d7ced46-ed1c-49c5-9de5-92f516cefbf4",
   "metadata": {},
   "outputs": [
    {
     "name": "stdout",
     "output_type": "stream",
     "text": [
      "Ola Mundo!.\n"
     ]
    }
   ],
   "source": [
    "print(texto + \".\")"
   ]
  },
  {
   "cell_type": "markdown",
   "id": "ca07d3c2-7c4d-434a-b0eb-674e69fdb22f",
   "metadata": {},
   "source": [
    "## FATIAMENTO"
   ]
  },
  {
   "cell_type": "code",
   "execution_count": 38,
   "id": "0c602c91-3b7f-4bf5-b258-987d1840a043",
   "metadata": {},
   "outputs": [],
   "source": [
    "nome = \"Joberth Emanoel da Conceição Mateo Castro\" #-> Sim, o nome do autor é gigante😥"
   ]
  },
  {
   "cell_type": "code",
   "execution_count": 39,
   "id": "6a123cbc-30bc-4908-b59d-371f21968fc7",
   "metadata": {},
   "outputs": [
    {
     "data": {
      "text/plain": [
       "'J'"
      ]
     },
     "execution_count": 39,
     "metadata": {},
     "output_type": "execute_result"
    }
   ],
   "source": [
    "nome[0]"
   ]
  },
  {
   "cell_type": "code",
   "execution_count": 40,
   "id": "56700fa8-75d0-4d35-b93b-5d3329f3a678",
   "metadata": {},
   "outputs": [
    {
     "data": {
      "text/plain": [
       "'Joberth E'"
      ]
     },
     "execution_count": 40,
     "metadata": {},
     "output_type": "execute_result"
    }
   ],
   "source": [
    "nome[:9]"
   ]
  },
  {
   "cell_type": "code",
   "execution_count": 41,
   "id": "6586b389-19b9-4cc0-95b2-134e6c061dd8",
   "metadata": {},
   "outputs": [
    {
     "data": {
      "text/plain": [
       "'anoel '"
      ]
     },
     "execution_count": 41,
     "metadata": {},
     "output_type": "execute_result"
    }
   ],
   "source": [
    "nome[10:16]"
   ]
  },
  {
   "cell_type": "code",
   "execution_count": 42,
   "id": "4b5abae7-c356-4406-9fed-9288db7a650b",
   "metadata": {},
   "outputs": [
    {
     "data": {
      "text/plain": [
       "'aol'"
      ]
     },
     "execution_count": 42,
     "metadata": {},
     "output_type": "execute_result"
    }
   ],
   "source": [
    "nome[10:16:2]"
   ]
  },
  {
   "cell_type": "code",
   "execution_count": 45,
   "id": "0ca19521-fab2-4347-bcec-0b951c7bb8b5",
   "metadata": {},
   "outputs": [
    {
     "data": {
      "text/plain": [
       "'ortsaC oetaM oãçiecnoC ad leonamE htreboJ'"
      ]
     },
     "execution_count": 45,
     "metadata": {},
     "output_type": "execute_result"
    }
   ],
   "source": [
    "nome[::-1]"
   ]
  },
  {
   "cell_type": "code",
   "execution_count": 47,
   "id": "02fac22a-15a4-48af-a87d-f83a46530ca8",
   "metadata": {},
   "outputs": [
    {
     "name": "stdout",
     "output_type": "stream",
     "text": [
      "ISSO É UMA STRING\n",
      "        DE \n",
      "MULTIPLAS LINHAS\n"
     ]
    }
   ],
   "source": [
    "print(\"\"\"ISSO É UMA STRING\n",
    "        DE \n",
    "MULTIPLAS LINHAS\"\"\")"
   ]
  },
  {
   "cell_type": "code",
   "execution_count": 48,
   "id": "25a633cc-2552-490f-8390-9bbbccc916e4",
   "metadata": {},
   "outputs": [
    {
     "name": "stdout",
     "output_type": "stream",
     "text": [
      "E ISSO\n",
      " TAMBEM\n"
     ]
    }
   ],
   "source": [
    "print(\"E ISSO\\n TAMBEM\")"
   ]
  }
 ],
 "metadata": {
  "kernelspec": {
   "display_name": "Python 3 (ipykernel)",
   "language": "python",
   "name": "python3"
  },
  "language_info": {
   "codemirror_mode": {
    "name": "ipython",
    "version": 3
   },
   "file_extension": ".py",
   "mimetype": "text/x-python",
   "name": "python",
   "nbconvert_exporter": "python",
   "pygments_lexer": "ipython3",
   "version": "3.11.7"
  }
 },
 "nbformat": 4,
 "nbformat_minor": 5
}
